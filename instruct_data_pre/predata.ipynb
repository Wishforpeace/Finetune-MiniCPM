{
 "cells": [
  {
   "cell_type": "markdown",
   "metadata": {},
   "source": [
    "# cosmosaq"
   ]
  },
  {
   "cell_type": "code",
   "execution_count": 2,
   "metadata": {},
   "outputs": [
    {
     "name": "stdout",
     "output_type": "stream",
     "text": [
      "train.csv processed and saved.\n",
      "valid.csv processed and saved.\n"
     ]
    }
   ],
   "source": [
    "# 转换为 ChatML 格式\n",
    "import os\n",
    "import shutil\n",
    "import json\n",
    "import pandas as pd\n",
    "input_dir = \"/home/mnt/wyx/src/Finetune-MiniCPM/datasets/raw/cosmosqa/data\"\n",
    "output_dir = \"/home/mnt/wyx/src/Finetune-MiniCPM/datasets/processed/cosmosqa\"\n",
    "if os.path.exists(output_dir):\n",
    "    shutil.rmtree(output_dir)\n",
    "os.makedirs(output_dir, exist_ok=True)\n",
    "\n",
    "\n",
    "# 处理每个数据集\n",
    "for dataset_name in [\"train.csv\", \"valid.csv\"]:\n",
    "    input_path = os.path.join(input_dir, dataset_name)\n",
    "    output_path = os.path.join(output_dir, dataset_name.replace('.csv', '.json'))\n",
    "\n",
    "    # 加载数据\n",
    "    data = pd.read_csv(input_path)\n",
    "\n",
    "    # 数据预处理\n",
    "    data.dropna(inplace=True)  # 去除可能存在的空行\n",
    "\n",
    "    data_out_list = []\n",
    "    for _, row in data.iterrows():\n",
    "        input_text = f\"This is a reading comprehension task. Given the context: {row['context']} Question: {row['question']} \" \\\n",
    "                     f\"Which of the following is the correct answer related to the context? 0: {row['answer0']} 1: {row['answer1']} \" \\\n",
    "                     f\"2: {row['answer2']} 3: {row['answer3']}\"\n",
    "        output_text = str(row['label'])  # 保留数字标签\n",
    "        data_out = {\n",
    "            \"messages\": [\n",
    "                {\n",
    "                    \"role\": \"user\",\n",
    "                    \"content\": input_text,\n",
    "                },\n",
    "                {\n",
    "                    \"role\": \"assistant\",\n",
    "                    \"content\": output_text,\n",
    "                },\n",
    "            ]\n",
    "        }\n",
    "        data_out_list.append(data_out)\n",
    "\n",
    "    # 保存处理后的数据到 JSON 文件\n",
    "    with open(output_path, 'w') as fo:\n",
    "        json.dump(data_out_list, fo, ensure_ascii=False, indent=4)\n",
    "\n",
    "    print(f\"{dataset_name} processed and saved.\")"
   ]
  },
  {
   "cell_type": "code",
   "execution_count": 6,
   "metadata": {},
   "outputs": [
    {
     "name": "stdout",
     "output_type": "stream",
     "text": [
      "JSON file has been created successfully.\n"
     ]
    }
   ],
   "source": [
    "import pandas as pd\n",
    "import json\n",
    "\n",
    "# 读取JSONL文件\n",
    "def read_jsonl(file_path):\n",
    "    with open(file_path, 'r', encoding='utf-8') as file:\n",
    "        lines = file.readlines()\n",
    "    return [json.loads(line) for line in lines]\n",
    "\n",
    "# 转换为DataFrame\n",
    "def create_dataframe(data):\n",
    "    df = pd.DataFrame(data)\n",
    "    return df\n",
    "\n",
    "# 格式化query\n",
    "def format_query(row):\n",
    "    return f\"<用户>This is a reading comprehension task. Given the context: {row['context']} Question: {row['question']} \" \\\n",
    "           f\"Which of the following is the correct answer related to the context? Please Only answer the question with a single number. 0: {row['answer0']} 1: {row['answer1']} \" \\\n",
    "           f\"2: {row['answer2']} 3: {row['answer3']}<AI>\"\n",
    "\n",
    "# 加载数据\n",
    "file_path = '/home/mnt/wyx/src/Finetune-MiniCPM/datasets/raw/cosmosqa/data/test.jsonl'  # 更改为您的JSONL文件路径\n",
    "data = read_jsonl(file_path)\n",
    "\n",
    "# 生成query字典列表\n",
    "query_list = [format_query(row) for row in data]\n",
    "\n",
    "# 保存为JSON文件\n",
    "json_file_path = '/home/mnt/wyx/src/Finetune-MiniCPM/datasets/processed/cosmosqa/test.json'  # 输出JSON文件的路径\n",
    "with open(json_file_path, 'w', encoding='utf-8') as json_file:\n",
    "    json.dump(query_list, json_file, ensure_ascii=False, indent=4)\n",
    "print(\"JSON file has been created successfully.\")"
   ]
  },
  {
   "cell_type": "markdown",
   "metadata": {},
   "source": [
    "# Trivia QA"
   ]
  },
  {
   "cell_type": "markdown",
   "metadata": {},
   "source": []
  }
 ],
 "metadata": {
  "kernelspec": {
   "display_name": "finetune",
   "language": "python",
   "name": "python3"
  },
  "language_info": {
   "codemirror_mode": {
    "name": "ipython",
    "version": 3
   },
   "file_extension": ".py",
   "mimetype": "text/x-python",
   "name": "python",
   "nbconvert_exporter": "python",
   "pygments_lexer": "ipython3",
   "version": "3.10.0"
  }
 },
 "nbformat": 4,
 "nbformat_minor": 2
}
